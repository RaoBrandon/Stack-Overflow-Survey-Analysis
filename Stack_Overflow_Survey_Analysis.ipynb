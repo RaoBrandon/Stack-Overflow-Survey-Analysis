{
 "cells": [
  {
   "cell_type": "markdown",
   "metadata": {
    "application/vnd.databricks.v1+cell": {
     "cellMetadata": {},
     "inputWidgets": {},
     "nuid": "86b21ef9-f5b7-4528-a7e4-5f1c62698ff0",
     "showTitle": false,
     "title": ""
    }
   },
   "source": [
    "# Stack Overflow Survey Analysis"
   ]
  },
  {
   "cell_type": "markdown",
   "metadata": {
    "application/vnd.databricks.v1+cell": {
     "cellMetadata": {},
     "inputWidgets": {},
     "nuid": "c163b8a0-0ebb-4626-af55-e4cee8cc7b83",
     "showTitle": false,
     "title": ""
    }
   },
   "source": [
    "## Introduction\n",
    "\n",
    "**Aside:** Within this notebook, we will be analyzing the **2024 Stack Overflow Survey** results. As part of an initial investigation of contributing variables towards the main parameter of interest: **CompTotal** representing total compensation of developers, there was a lack of meaningful correlation from numerical parameters. As such, we will be performing a descriptive analysis and data story rather than deployment of a ML model for predication on total compensation.\n",
    "\n",
    "\n",
    "### Purpose\n",
    "\n",
    "To demonstrate CRISP-DM compliance where applicable of an end-to-end Data Science project while answering the following questions regarding the survey dataset:\n",
    "1. How happy are developers in 2024?\n",
    "2. Do you enjoy coding more if you do it as a hobby?\n",
    "3. Do younger developers enjoy coding more than older developers?\n",
    "4. Does happiness as a developer have any impact (positive or negative) on your compensation?\n",
    "5. What are some of the biggest predictors of satisfaction as a developer?"
   ]
  },
  {
   "cell_type": "markdown",
   "metadata": {
    "application/vnd.databricks.v1+cell": {
     "cellMetadata": {},
     "inputWidgets": {},
     "nuid": "81148ca2-2dc6-440a-b340-6f4f666cded7",
     "showTitle": false,
     "title": ""
    }
   },
   "source": [
    "## 1: Business Understanding\n",
    "A few of our intial questions are answered by the provided PDF document on the [dataset main page](https://survey.stackoverflow.co/) residing on Stack Overflow. Within this PDF, we can see the the dataset contains questions for developers leverage the tech-based platform that is designed for programming-inclined SME's - Stack Overflow. \n",
    "\n",
    "These questions range from various background inquiries to further recommendations and more. As part of the survey, users are questioned about their job satisfaction. We will explore some of the relationships with job satisfaction based on the questions asked above."
   ]
  },
  {
   "cell_type": "markdown",
   "metadata": {
    "application/vnd.databricks.v1+cell": {
     "cellMetadata": {},
     "inputWidgets": {},
     "nuid": "d3525491-1b59-46d5-b809-2bc018f23182",
     "showTitle": false,
     "title": ""
    }
   },
   "source": [
    "## 2: Data Understanding\n",
    "In order to develop a more in-depth understanding of the data, we will begin by loading the CSV-file dataset (obtainable from the link referenced above) into a Pandas dataframe and begin our data exploration."
   ]
  },
  {
   "cell_type": "code",
   "execution_count": 0,
   "metadata": {
    "application/vnd.databricks.v1+cell": {
     "cellMetadata": {},
     "inputWidgets": {},
     "nuid": "49ce346f-a349-4c1c-802f-39a9d124233f",
     "showTitle": false,
     "title": ""
    }
   },
   "outputs": [],
   "source": [
    "# Importing required libraries for our end-to-end ML project\n",
    "import numpy as np\n",
    "import pandas as pd\n",
    "import matplotlib.pyplot as plt\n",
    "from sklearn.linear_model import LinearRegression\n",
    "from sklearn.model_selection import train_test_split\n",
    "from sklearn.metrics import r2_score, mean_squared_error\n",
    "import seaborn as sns\n",
    "%matplotlib inline\n",
    "\n",
    "# Loading data from 2024 survey into DF, running df.head() to verify records have been loaded successfuly\n",
    "df = pd.read_csv('./Data/survey_results_public.csv')\n",
    "df.head()"
   ]
  },
  {
   "cell_type": "markdown",
   "metadata": {
    "application/vnd.databricks.v1+cell": {
     "cellMetadata": {},
     "inputWidgets": {},
     "nuid": "ed1e190f-f6f3-419d-8beb-3518d90e2308",
     "showTitle": false,
     "title": ""
    }
   },
   "source": [
    "Now that we have loaded our data successfully, we will start by doing some exploratory analysis through the usage of visualizations."
   ]
  },
  {
   "cell_type": "code",
   "execution_count": 0,
   "metadata": {
    "application/vnd.databricks.v1+cell": {
     "cellMetadata": {},
     "inputWidgets": {},
     "nuid": "404aa17b-3896-4a8c-b9b2-a141b130d87a",
     "showTitle": false,
     "title": ""
    }
   },
   "outputs": [],
   "source": [
    "# Viewing complete number of rows and columns in the dataset\n",
    "print(f\"Rows: {df.shape[0]}, Columns: {df.shape[1]}\")"
   ]
  },
  {
   "cell_type": "code",
   "execution_count": 0,
   "metadata": {
    "application/vnd.databricks.v1+cell": {
     "cellMetadata": {},
     "inputWidgets": {},
     "nuid": "f5ade9fc-c65c-436f-8a40-3d27204c39de",
     "showTitle": false,
     "title": ""
    }
   },
   "outputs": [],
   "source": [
    "# Display a series of histograms, leveraging tight_layout to display readable outputs\n",
    "df.hist(figsize=(10,9), ec=\"k\")\n",
    "plt.tight_layout()\n",
    "plt.show()"
   ]
  },
  {
   "cell_type": "markdown",
   "metadata": {
    "application/vnd.databricks.v1+cell": {
     "cellMetadata": {},
     "inputWidgets": {},
     "nuid": "0706be7c-d0de-4ab0-a778-47728e166119",
     "showTitle": false,
     "title": ""
    }
   },
   "source": [
    "The implication of the above is that there are zero records where survey responders have marked \"2\" or \"3\" for job satisfaction. Let us verify this below:"
   ]
  },
  {
   "cell_type": "code",
   "execution_count": 0,
   "metadata": {
    "application/vnd.databricks.v1+cell": {
     "cellMetadata": {},
     "inputWidgets": {},
     "nuid": "73887a91-25e7-4097-bc35-f6afe268df06",
     "showTitle": false,
     "title": ""
    }
   },
   "outputs": [],
   "source": [
    "# Verifying the lack of Job SatPoints 2 and 3 within the dataset\n",
    "list(df.loc[:, df.columns.str.contains(\"JobSatPoints\")].columns)"
   ]
  },
  {
   "cell_type": "markdown",
   "metadata": {
    "application/vnd.databricks.v1+cell": {
     "cellMetadata": {},
     "inputWidgets": {},
     "nuid": "c55923f2-5a9c-4240-8114-9be4c1d06570",
     "showTitle": false,
     "title": ""
    }
   },
   "source": [
    "## 3: Data Preparation"
   ]
  },
  {
   "cell_type": "code",
   "execution_count": 0,
   "metadata": {
    "application/vnd.databricks.v1+cell": {
     "cellMetadata": {},
     "inputWidgets": {},
     "nuid": "380e1800-68bb-4395-91a8-d1977213152f",
     "showTitle": false,
     "title": ""
    }
   },
   "outputs": [],
   "source": [
    "# Checking on the null values within the dataset using a simple one-liner\n",
    "nulls = df.isnull().mean().sort_values(ascending=False)"
   ]
  },
  {
   "cell_type": "markdown",
   "metadata": {
    "application/vnd.databricks.v1+cell": {
     "cellMetadata": {},
     "inputWidgets": {},
     "nuid": "878ae77b-1374-452a-b8ea-30c0aa31d44a",
     "showTitle": false,
     "title": ""
    }
   },
   "source": [
    "Based on the above, we can see that several questions relating to the integration of AI have > 75% null values, as such it will be more valuable to us to drop these columns from our dataset for consideration."
   ]
  },
  {
   "cell_type": "code",
   "execution_count": 0,
   "metadata": {
    "application/vnd.databricks.v1+cell": {
     "cellMetadata": {},
     "inputWidgets": {},
     "nuid": "c1beee50-4470-4033-bcdb-8cdb461498a3",
     "showTitle": false,
     "title": ""
    }
   },
   "outputs": [],
   "source": [
    "# Let us filter out the responses with a high threshold of null values, we are using .loc combined with : to scan the entire column\n",
    "df = df.loc[:, df.isnull().mean() < 0.75]"
   ]
  },
  {
   "cell_type": "markdown",
   "metadata": {
    "application/vnd.databricks.v1+cell": {
     "cellMetadata": {},
     "inputWidgets": {},
     "nuid": "4145e82c-7a4b-42cd-9a38-24ee8208d8d4",
     "showTitle": false,
     "title": ""
    }
   },
   "source": [
    "Now that we have removed the columns that contain an unusable amount of null values, we will now examine the null values for Job Satisfaction parameters."
   ]
  },
  {
   "cell_type": "code",
   "execution_count": 0,
   "metadata": {
    "application/vnd.databricks.v1+cell": {
     "cellMetadata": {},
     "inputWidgets": {},
     "nuid": "34940274-a310-4ce2-9d63-6eb64d1b6423",
     "showTitle": false,
     "title": ""
    }
   },
   "outputs": [],
   "source": [
    "# Build a dataframe to store the null proportions of our columns, and then filter for thos columns pertinent to Job Satisfaction\n",
    "sat_nulls = pd.DataFrame({'Column': nulls.index, 'Null Proportion': nulls.values})\n",
    "sat_nulls[sat_nulls[\"Column\"].str.contains(\"JobSat\")]"
   ]
  },
  {
   "cell_type": "markdown",
   "metadata": {
    "application/vnd.databricks.v1+cell": {
     "cellMetadata": {},
     "inputWidgets": {},
     "nuid": "567b57cf-6e5d-4a9c-967f-74da9001c54a",
     "showTitle": false,
     "title": ""
    }
   },
   "source": [
    "Based on the above result, we can see that only ~45% of survey respondees have provided us with information about their job satisfaction. In order to address this, we will be building a separate dataframe for all respondees that have with a Null JobSat for further analyis. This operation is performed below."
   ]
  },
  {
   "cell_type": "code",
   "execution_count": 0,
   "metadata": {
    "application/vnd.databricks.v1+cell": {
     "cellMetadata": {},
     "inputWidgets": {},
     "nuid": "4fac6b70-0997-448b-89a8-82aec6cbc6af",
     "showTitle": false,
     "title": ""
    }
   },
   "outputs": [],
   "source": [
    "# Handling Nulls, we will be separating out our analysis into two segments - those with job satisfaction information and those without\n",
    "sat_nulls_df = df[df.JobSat.isnull()]\n",
    "sat_df = df.dropna(subset=['JobSat'])"
   ]
  },
  {
   "cell_type": "code",
   "execution_count": 0,
   "metadata": {
    "application/vnd.databricks.v1+cell": {
     "cellMetadata": {},
     "inputWidgets": {},
     "nuid": "ce047eae-6185-4d21-acf4-fe7330f3629e",
     "showTitle": false,
     "title": ""
    }
   },
   "outputs": [],
   "source": [
    "# Let us create a new dataframe representing only the job satisfaction information of the dataset for exploration purposes\n",
    "job_satisfaction_df = df.loc[:, df.columns.str.contains(\"JobSat\")]\n",
    "job_satisfaction_df.sum().plot(kind = 'bar', figsize=(10,9), ec=\"k\")"
   ]
  },
  {
   "cell_type": "markdown",
   "metadata": {
    "application/vnd.databricks.v1+cell": {
     "cellMetadata": {},
     "inputWidgets": {},
     "nuid": "155381ad-828e-4fd2-80b2-4e3e431604ff",
     "showTitle": false,
     "title": ""
    }
   },
   "source": [
    "## Questions\n",
    "### 1. How happy are developers in 2024?"
   ]
  },
  {
   "cell_type": "code",
   "execution_count": 0,
   "metadata": {
    "application/vnd.databricks.v1+cell": {
     "cellMetadata": {},
     "inputWidgets": {},
     "nuid": "3d8e2a0b-f062-497a-8607-dc18ab908bee",
     "showTitle": false,
     "title": ""
    }
   },
   "outputs": [],
   "source": []
  },
  {
   "cell_type": "code",
   "execution_count": 0,
   "metadata": {
    "application/vnd.databricks.v1+cell": {
     "cellMetadata": {},
     "inputWidgets": {},
     "nuid": "1df46923-00ee-41c6-b38c-8b84b71cd95f",
     "showTitle": false,
     "title": ""
    }
   },
   "outputs": [],
   "source": [
    "list(df.columns)"
   ]
  },
  {
   "cell_type": "code",
   "execution_count": 0,
   "metadata": {
    "application/vnd.databricks.v1+cell": {
     "cellMetadata": {},
     "inputWidgets": {},
     "nuid": "1b05c601-5a58-49d1-a39e-7a90a0085f99",
     "showTitle": false,
     "title": ""
    }
   },
   "outputs": [],
   "source": []
  },
  {
   "cell_type": "code",
   "execution_count": 0,
   "metadata": {
    "application/vnd.databricks.v1+cell": {
     "cellMetadata": {},
     "inputWidgets": {},
     "nuid": "fcc3335d-9b1d-4eb5-9779-4a3141afc8f8",
     "showTitle": false,
     "title": ""
    }
   },
   "outputs": [],
   "source": [
    "df2=df[[\"JobSat\",\"RemoteWork\"]].sort_values(['JobSat','RemoteWork'], ascending=False).groupby('RemoteWork').mean()\n",
    "df2.plot(kind = \"bar\", figsize=(5,5), ec=\"k\")\n",
    "plt.ylim(0, 10)\n",
    "plt.set_ylabel(df2.mean, label_type='edge')\n",
    "plt.title(\"Job Satisfaction by Remote Work\")"
   ]
  },
  {
   "cell_type": "code",
   "execution_count": 0,
   "metadata": {
    "application/vnd.databricks.v1+cell": {
     "cellMetadata": {},
     "inputWidgets": {},
     "nuid": "5b061c68-ab4f-4671-8970-2843ea72b1b4",
     "showTitle": false,
     "title": ""
    }
   },
   "outputs": [],
   "source": []
  }
 ],
 "metadata": {
  "application/vnd.databricks.v1+notebook": {
   "dashboards": [],
   "environmentMetadata": null,
   "language": "python",
   "notebookMetadata": {},
   "notebookName": "Stack_Overflow_Survey_Analysis",
   "widgets": {}
  }
 },
 "nbformat": 4,
 "nbformat_minor": 0
}
